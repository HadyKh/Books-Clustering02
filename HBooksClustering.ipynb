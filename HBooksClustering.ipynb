{
 "cells": [
  {
   "cell_type": "code",
   "execution_count": 39,
   "id": "1d0702d5",
   "metadata": {},
   "outputs": [
    {
     "name": "stderr",
     "output_type": "stream",
     "text": [
      "[nltk_data] Downloading package punkt to\n",
      "[nltk_data]     C:\\Users\\hadyo\\AppData\\Roaming\\nltk_data...\n",
      "[nltk_data]   Package punkt is already up-to-date!\n",
      "[nltk_data] Downloading package stopwords to\n",
      "[nltk_data]     C:\\Users\\hadyo\\AppData\\Roaming\\nltk_data...\n",
      "[nltk_data]   Package stopwords is already up-to-date!\n",
      "[nltk_data] Downloading package wordnet to\n",
      "[nltk_data]     C:\\Users\\hadyo\\AppData\\Roaming\\nltk_data...\n",
      "[nltk_data]   Package wordnet is already up-to-date!\n"
     ]
    }
   ],
   "source": [
    "import warnings\n",
    "warnings.filterwarnings('ignore', category = DeprecationWarning)\n",
    "import requests\n",
    "import re\n",
    "import nltk\n",
    "nltk.download('punkt')\n",
    "nltk.download('stopwords')\n",
    "nltk.download('wordnet')\n",
    "import random\n",
    "import numpy as np\n",
    "import pandas as pd\n",
    "import itertools\n",
    "from sklearn import svm\n",
    "from sklearn import tree\n",
    "from urllib import request\n",
    "from random import randint\n",
    "#from wordcloud import WordCloud\n",
    "from nltk import word_tokenize\n",
    "from collections import Counter\n",
    "import matplotlib.pyplot as plt\n",
    "import gensim\n",
    "from gensim.models import LdaModel, Word2Vec\n",
    "import pyLDAvis\n",
    "import pyLDAvis.gensim_models\n",
    "from gensim.test.utils import common_texts\n",
    "from gensim.corpora.dictionary import Dictionary\n",
    "from nltk.corpus import stopwords\n",
    "from sklearn import preprocessing\n",
    "from nltk.stem import WordNetLemmatizer\n",
    "#!pip install mlxtend\n",
    "#from mlxtend.evaluate import bias_variance_decomp\n",
    "from sklearn.cluster import AgglomerativeClustering\n",
    "from sklearn.model_selection import GridSearchCV\n",
    "from sklearn.decomposition import PCA\n",
    "from sklearn.neighbors import KNeighborsClassifier\n",
    "from sklearn.model_selection  import cross_val_score\n",
    "from sklearn.model_selection import train_test_split, KFold\n",
    "from sklearn.feature_extraction.text import CountVectorizer\n",
    "from sklearn.decomposition import LatentDirichletAllocation\n",
    "from sklearn.feature_extraction.text import TfidfVectorizer\n",
    "from sklearn.utils import shuffle\n",
    "from sklearn.discriminant_analysis import LinearDiscriminantAnalysis\n",
    "from sklearn.neighbors import NearestCentroid\n",
    "from sklearn.manifold import TSNE\n",
    "from sklearn.decomposition import PCA, KernelPCA\n",
    "from sklearn.metrics import silhouette_samples, silhouette_score, homogeneity_score, completeness_score, v_measure_score, adjusted_rand_score, euclidean_distances "
   ]
  },
  {
   "cell_type": "code",
   "execution_count": 2,
   "id": "66ae3352",
   "metadata": {},
   "outputs": [],
   "source": [
    "#fitting Hierarchical model\n",
    "def model_HC(data):\n",
    "    HC = AgglomerativeClustering(n_clusters = 5, affinity = 'euclidean', linkage = 'ward')\n",
    "    y_data = HC.fit_predict(data)\n",
    "    return y_data, HC"
   ]
  },
  {
   "cell_type": "code",
   "execution_count": 3,
   "id": "0c9b494e",
   "metadata": {},
   "outputs": [],
   "source": [
    "def plotting(features, y_pred, model, title):\n",
    "    plt.figure(figsize=(10, 6))\n",
    "    plt.scatter(features[y_pred == 0, 0],\n",
    "                features[y_pred == 0, 1], marker = \"x\", c = 'red', s = 100, label = ['c1'])\n",
    "    plt.scatter(features[y_pred == 1, 0],\n",
    "                features[y_pred == 1, 1], marker = \"x\", c = 'blue', s = 100, label = ['c2'])\n",
    "    plt.scatter(features[y_pred == 2, 0],\n",
    "                features[y_pred == 2, 1], marker = \"x\", c = 'orange', s = 100, label = ['c3'])\n",
    "    plt.scatter(features[y_pred == 3, 0],\n",
    "                features[y_pred == 3, 1], marker = \"x\", c = 'yellow', s = 100, label = ['c4'])\n",
    "    plt.scatter(features[y_pred == 4, 0],\n",
    "                features[y_pred == 4, 1], marker = \"x\", c = 'green', s = 100, label = ['c5'])\n",
    "    plt.legend()\n",
    "    plt.title(title)"
   ]
  },
  {
   "cell_type": "code",
   "execution_count": 4,
   "id": "4d8d0c48",
   "metadata": {},
   "outputs": [],
   "source": [
    "#evaluate the clusters\n",
    "def clustering_evaluation(features, clustering_labels, data):\n",
    "    print(\"Homogeneity: {}\".format(homogeneity_score(data, clustering_labels)))\n",
    "    print(\"Completeness: {}\".format(completeness_score(data, clustering_labels)))\n",
    "    print(\"V-measure: {}\".format(v_measure_score(data, clustering_labels)))\n",
    "    print(\"Adjusted Rand-Index: {}\".format(adjusted_rand_score(data, clustering_labels)))\n",
    "    print(\"Silhouette Coefficient: {}\".format(silhouette_score(features, clustering_labels)))"
   ]
  },
  {
   "cell_type": "code",
   "execution_count": 5,
   "id": "39abe3dd",
   "metadata": {},
   "outputs": [],
   "source": [
    "books_url_list = [\"https://www.gutenberg.org/files/84/84-0.txt\",\n",
    "                  \"https://www.gutenberg.org/cache/epub/28434/pg28434.txt\",\n",
    "                  \"https://www.gutenberg.org/cache/epub/3623/pg3623.txt\",\n",
    "                  \"https://www.gutenberg.org/cache/epub/17866/pg17866.txt\",\n",
    "                  \"https://www.gutenberg.org/files/3772/3772-0.txt\"]"
   ]
  },
  {
   "cell_type": "markdown",
   "id": "b5f8b04f",
   "metadata": {},
   "source": [
    "# Preprocessing"
   ]
  },
  {
   "cell_type": "code",
   "execution_count": 6,
   "id": "1c0344a8",
   "metadata": {},
   "outputs": [
    {
     "data": {
      "text/plain": [
       "5"
      ]
     },
     "execution_count": 6,
     "metadata": {},
     "output_type": "execute_result"
    }
   ],
   "source": [
    "#function read raw data\n",
    "def read_books(url):\n",
    "    files = []\n",
    "    for i in url:\n",
    "        file = requests.get(url = i)\n",
    "        files.append(file.content.decode('utf-8'))\n",
    "    return files\n",
    "\n",
    "#read raw data\n",
    "raw_dataset = read_books(books_url_list)\n",
    "len(raw_dataset)"
   ]
  },
  {
   "cell_type": "code",
   "execution_count": 7,
   "id": "430ddfbe",
   "metadata": {},
   "outputs": [
    {
     "data": {
      "text/plain": [
       "5"
      ]
     },
     "execution_count": 7,
     "metadata": {},
     "output_type": "execute_result"
    }
   ],
   "source": [
    "#Function cleaned tokens\n",
    "def cleaned_text(raw_text):\n",
    "    text_beg = raw_text.find(\"*** START OF\")\n",
    "    text_end = raw_text.find(\"*** END OF\")\n",
    "\n",
    "    raw_text = raw_text[text_beg : text_end]\n",
    "    raw_text = re.findall(r\"[a-zA-Z]+\", raw_text)\n",
    "    raw_text = \" \".join(raw_text).lower()\n",
    "    tokens = word_tokenize(raw_text)\n",
    "    stop_words = stopwords.words(\"english\")\n",
    "    lemmatizer = WordNetLemmatizer()\n",
    "    tokens = [lemmatizer.lemmatize(token) for token in tokens if token not in stop_words]\n",
    "    \n",
    "    return tokens\n",
    "#Getting cleaned tokens\n",
    "tokens = []\n",
    "for i in range(len(raw_dataset)):\n",
    "    tokens.append(cleaned_text(raw_dataset[i]))\n",
    "len(tokens)"
   ]
  },
  {
   "cell_type": "code",
   "execution_count": 8,
   "id": "c351884b",
   "metadata": {},
   "outputs": [
    {
     "name": "stdout",
     "output_type": "stream",
     "text": [
      "5\n",
      "5\n",
      "5\n",
      "5\n"
     ]
    }
   ],
   "source": [
    "#function to extract author name, book name and labels\n",
    "def extract_book_author(raw_text, index):\n",
    "    label = chr(index + 97)\n",
    "        \n",
    "    title_beg = raw_text.find(\"Title\") + 7\n",
    "    title_end = raw_text.find(\"\\r\\n\\r\\nAuthor\")\n",
    "    title = raw_text[title_beg : title_end]\n",
    "\n",
    "    author_beg = raw_text.find(\"Author\") + 8\n",
    "    c = 0\n",
    "    while raw_text[author_beg + c] != \"\\r\":\n",
    "        c += 1\n",
    "        author_end = author_beg + c\n",
    "    author = raw_text[author_beg : author_end]\n",
    "    return label, title, author\n",
    "\n",
    "#getting the author name, book name, labels\n",
    "label, author, title = [], [], []\n",
    "for i in range(len(raw_dataset)):\n",
    "    label_temp, title_temp, author_temp = extract_book_author(raw_dataset[i],i)\n",
    "    label.append(label_temp)\n",
    "    author.append(author_temp)\n",
    "    title.append(title_temp)\n",
    "    \n",
    "print(len(label))\n",
    "print(len(author))\n",
    "print(len(title))\n",
    "print(len(tokens))"
   ]
  },
  {
   "cell_type": "code",
   "execution_count": 9,
   "id": "705c29a4",
   "metadata": {},
   "outputs": [],
   "source": [
    "#function to partition data\n",
    "def partitioned_text(tokens, title, author, label):\n",
    "    book_partitions = []\n",
    "    for i in range(0, len(tokens) -150, 150):\n",
    "        partition = [\" \".join(tokens[i : i + 150]), title, author, label]\n",
    "        book_partitions.append(partition)\n",
    "    return book_partitions"
   ]
  },
  {
   "cell_type": "code",
   "execution_count": 10,
   "id": "434a12cc",
   "metadata": {},
   "outputs": [
    {
     "data": {
      "text/html": [
       "<div>\n",
       "<style scoped>\n",
       "    .dataframe tbody tr th:only-of-type {\n",
       "        vertical-align: middle;\n",
       "    }\n",
       "\n",
       "    .dataframe tbody tr th {\n",
       "        vertical-align: top;\n",
       "    }\n",
       "\n",
       "    .dataframe thead th {\n",
       "        text-align: right;\n",
       "    }\n",
       "</style>\n",
       "<table border=\"1\" class=\"dataframe\">\n",
       "  <thead>\n",
       "    <tr style=\"text-align: right;\">\n",
       "      <th></th>\n",
       "      <th>partitions</th>\n",
       "      <th>title</th>\n",
       "      <th>author</th>\n",
       "      <th>label</th>\n",
       "    </tr>\n",
       "  </thead>\n",
       "  <tbody>\n",
       "    <tr>\n",
       "      <th>0</th>\n",
       "      <td>happier time contemplated day company shadow r...</td>\n",
       "      <td>Frankenstein\\r\\n       or, The Modern Prometheus</td>\n",
       "      <td>Mary Wollstonecraft (Godwin) Shelley</td>\n",
       "      <td>a</td>\n",
       "    </tr>\n",
       "    <tr>\n",
       "      <th>1</th>\n",
       "      <td>phenomenon observed connection variable appear...</td>\n",
       "      <td>The Astronomy of Milton's 'Paradise Lost'</td>\n",
       "      <td>Thomas Orchard</td>\n",
       "      <td>b</td>\n",
       "    </tr>\n",
       "    <tr>\n",
       "      <th>2</th>\n",
       "      <td>crust thrown together confusedly distinct mine...</td>\n",
       "      <td>The Student’s Elements of Geology</td>\n",
       "      <td>Sir Charles Lyell</td>\n",
       "      <td>e</td>\n",
       "    </tr>\n",
       "    <tr>\n",
       "      <th>3</th>\n",
       "      <td>cutting shale striking example near plas newyd...</td>\n",
       "      <td>The Student’s Elements of Geology</td>\n",
       "      <td>Sir Charles Lyell</td>\n",
       "      <td>e</td>\n",
       "    </tr>\n",
       "    <tr>\n",
       "      <th>4</th>\n",
       "      <td>blood carefully collected afterwards swallowed...</td>\n",
       "      <td>The Golden Bough\\r\\n       A study of magic an...</td>\n",
       "      <td>Sir James George Frazer</td>\n",
       "      <td>c</td>\n",
       "    </tr>\n",
       "    <tr>\n",
       "      <th>...</th>\n",
       "      <td>...</td>\n",
       "      <td>...</td>\n",
       "      <td>...</td>\n",
       "      <td>...</td>\n",
       "    </tr>\n",
       "    <tr>\n",
       "      <th>995</th>\n",
       "      <td>distributing scanty meal five hungry babe amon...</td>\n",
       "      <td>Frankenstein\\r\\n       or, The Modern Prometheus</td>\n",
       "      <td>Mary Wollstonecraft (Godwin) Shelley</td>\n",
       "      <td>a</td>\n",
       "    </tr>\n",
       "    <tr>\n",
       "      <th>996</th>\n",
       "      <td>jefferson davis rand cost loss expensive libel...</td>\n",
       "      <td>Murder in the Gunroom</td>\n",
       "      <td>Henry Beam Piper</td>\n",
       "      <td>d</td>\n",
       "    </tr>\n",
       "    <tr>\n",
       "      <th>997</th>\n",
       "      <td>de la beche muddy bottom sea received small su...</td>\n",
       "      <td>The Student’s Elements of Geology</td>\n",
       "      <td>Sir Charles Lyell</td>\n",
       "      <td>e</td>\n",
       "    </tr>\n",
       "    <tr>\n",
       "      <th>998</th>\n",
       "      <td>broth prepared consumed occasion guest honour ...</td>\n",
       "      <td>The Golden Bough\\r\\n       A study of magic an...</td>\n",
       "      <td>Sir James George Frazer</td>\n",
       "      <td>c</td>\n",
       "    </tr>\n",
       "    <tr>\n",
       "      <th>999</th>\n",
       "      <td>iii circling majestic orbit around acknowledgi...</td>\n",
       "      <td>The Astronomy of Milton's 'Paradise Lost'</td>\n",
       "      <td>Thomas Orchard</td>\n",
       "      <td>b</td>\n",
       "    </tr>\n",
       "  </tbody>\n",
       "</table>\n",
       "<p>1000 rows × 4 columns</p>\n",
       "</div>"
      ],
      "text/plain": [
       "                                            partitions  \\\n",
       "0    happier time contemplated day company shadow r...   \n",
       "1    phenomenon observed connection variable appear...   \n",
       "2    crust thrown together confusedly distinct mine...   \n",
       "3    cutting shale striking example near plas newyd...   \n",
       "4    blood carefully collected afterwards swallowed...   \n",
       "..                                                 ...   \n",
       "995  distributing scanty meal five hungry babe amon...   \n",
       "996  jefferson davis rand cost loss expensive libel...   \n",
       "997  de la beche muddy bottom sea received small su...   \n",
       "998  broth prepared consumed occasion guest honour ...   \n",
       "999  iii circling majestic orbit around acknowledgi...   \n",
       "\n",
       "                                                 title  \\\n",
       "0     Frankenstein\\r\\n       or, The Modern Prometheus   \n",
       "1            The Astronomy of Milton's 'Paradise Lost'   \n",
       "2                    The Student’s Elements of Geology   \n",
       "3                    The Student’s Elements of Geology   \n",
       "4    The Golden Bough\\r\\n       A study of magic an...   \n",
       "..                                                 ...   \n",
       "995   Frankenstein\\r\\n       or, The Modern Prometheus   \n",
       "996                              Murder in the Gunroom   \n",
       "997                  The Student’s Elements of Geology   \n",
       "998  The Golden Bough\\r\\n       A study of magic an...   \n",
       "999          The Astronomy of Milton's 'Paradise Lost'   \n",
       "\n",
       "                                   author label  \n",
       "0    Mary Wollstonecraft (Godwin) Shelley     a  \n",
       "1                          Thomas Orchard     b  \n",
       "2                       Sir Charles Lyell     e  \n",
       "3                       Sir Charles Lyell     e  \n",
       "4                 Sir James George Frazer     c  \n",
       "..                                    ...   ...  \n",
       "995  Mary Wollstonecraft (Godwin) Shelley     a  \n",
       "996                      Henry Beam Piper     d  \n",
       "997                     Sir Charles Lyell     e  \n",
       "998               Sir James George Frazer     c  \n",
       "999                        Thomas Orchard     b  \n",
       "\n",
       "[1000 rows x 4 columns]"
      ]
     },
     "execution_count": 10,
     "metadata": {},
     "output_type": "execute_result"
    }
   ],
   "source": [
    "partitions = []\n",
    "for i in range(len(books_url_list)):\n",
    "    book_partitions = partitioned_text(tokens[i], title[i], author[i], label[i])\n",
    "    random.shuffle(book_partitions)\n",
    "    book_partitions = book_partitions[0:200]\n",
    "    partitions += book_partitions\n",
    "\n",
    "dataset = pd.DataFrame(partitions, columns = [\"partitions\", \"title\", \"author\", \"label\"])\n",
    "dataset = dataset.sample(frac=1).reset_index(drop=True)\n",
    "dataset"
   ]
  },
  {
   "cell_type": "markdown",
   "id": "95521418",
   "metadata": {},
   "source": [
    "# Feature Engineering"
   ]
  },
  {
   "cell_type": "markdown",
   "id": "15323512",
   "metadata": {},
   "source": [
    "## BOW model"
   ]
  },
  {
   "cell_type": "code",
   "execution_count": 11,
   "id": "ed85c194",
   "metadata": {},
   "outputs": [
    {
     "data": {
      "text/html": [
       "<div>\n",
       "<style scoped>\n",
       "    .dataframe tbody tr th:only-of-type {\n",
       "        vertical-align: middle;\n",
       "    }\n",
       "\n",
       "    .dataframe tbody tr th {\n",
       "        vertical-align: top;\n",
       "    }\n",
       "\n",
       "    .dataframe thead th {\n",
       "        text-align: right;\n",
       "    }\n",
       "</style>\n",
       "<table border=\"1\" class=\"dataframe\">\n",
       "  <thead>\n",
       "    <tr style=\"text-align: right;\">\n",
       "      <th></th>\n",
       "      <th>aachen</th>\n",
       "      <th>aah</th>\n",
       "      <th>aargau</th>\n",
       "      <th>aaron</th>\n",
       "      <th>aarvo</th>\n",
       "      <th>aba</th>\n",
       "      <th>aback</th>\n",
       "      <th>abandon</th>\n",
       "      <th>abandoned</th>\n",
       "      <th>abated</th>\n",
       "      <th>...</th>\n",
       "      <th>zoon</th>\n",
       "      <th>zoophagous</th>\n",
       "      <th>zoophyte</th>\n",
       "      <th>zorger</th>\n",
       "      <th>zostera</th>\n",
       "      <th>zouch</th>\n",
       "      <th>zu</th>\n",
       "      <th>zulu</th>\n",
       "      <th>zum</th>\n",
       "      <th>zytniamatka</th>\n",
       "    </tr>\n",
       "  </thead>\n",
       "  <tbody>\n",
       "    <tr>\n",
       "      <th>0</th>\n",
       "      <td>0</td>\n",
       "      <td>0</td>\n",
       "      <td>0</td>\n",
       "      <td>0</td>\n",
       "      <td>0</td>\n",
       "      <td>0</td>\n",
       "      <td>0</td>\n",
       "      <td>0</td>\n",
       "      <td>0</td>\n",
       "      <td>0</td>\n",
       "      <td>...</td>\n",
       "      <td>0</td>\n",
       "      <td>0</td>\n",
       "      <td>0</td>\n",
       "      <td>0</td>\n",
       "      <td>0</td>\n",
       "      <td>0</td>\n",
       "      <td>0</td>\n",
       "      <td>0</td>\n",
       "      <td>0</td>\n",
       "      <td>0</td>\n",
       "    </tr>\n",
       "    <tr>\n",
       "      <th>1</th>\n",
       "      <td>0</td>\n",
       "      <td>0</td>\n",
       "      <td>0</td>\n",
       "      <td>0</td>\n",
       "      <td>0</td>\n",
       "      <td>0</td>\n",
       "      <td>0</td>\n",
       "      <td>0</td>\n",
       "      <td>0</td>\n",
       "      <td>0</td>\n",
       "      <td>...</td>\n",
       "      <td>0</td>\n",
       "      <td>0</td>\n",
       "      <td>0</td>\n",
       "      <td>0</td>\n",
       "      <td>0</td>\n",
       "      <td>0</td>\n",
       "      <td>0</td>\n",
       "      <td>0</td>\n",
       "      <td>0</td>\n",
       "      <td>0</td>\n",
       "    </tr>\n",
       "    <tr>\n",
       "      <th>2</th>\n",
       "      <td>0</td>\n",
       "      <td>0</td>\n",
       "      <td>0</td>\n",
       "      <td>0</td>\n",
       "      <td>0</td>\n",
       "      <td>0</td>\n",
       "      <td>0</td>\n",
       "      <td>0</td>\n",
       "      <td>0</td>\n",
       "      <td>0</td>\n",
       "      <td>...</td>\n",
       "      <td>0</td>\n",
       "      <td>0</td>\n",
       "      <td>0</td>\n",
       "      <td>0</td>\n",
       "      <td>0</td>\n",
       "      <td>0</td>\n",
       "      <td>0</td>\n",
       "      <td>0</td>\n",
       "      <td>0</td>\n",
       "      <td>0</td>\n",
       "    </tr>\n",
       "    <tr>\n",
       "      <th>3</th>\n",
       "      <td>0</td>\n",
       "      <td>0</td>\n",
       "      <td>0</td>\n",
       "      <td>0</td>\n",
       "      <td>0</td>\n",
       "      <td>0</td>\n",
       "      <td>0</td>\n",
       "      <td>0</td>\n",
       "      <td>0</td>\n",
       "      <td>0</td>\n",
       "      <td>...</td>\n",
       "      <td>0</td>\n",
       "      <td>0</td>\n",
       "      <td>0</td>\n",
       "      <td>0</td>\n",
       "      <td>0</td>\n",
       "      <td>0</td>\n",
       "      <td>0</td>\n",
       "      <td>0</td>\n",
       "      <td>0</td>\n",
       "      <td>0</td>\n",
       "    </tr>\n",
       "    <tr>\n",
       "      <th>4</th>\n",
       "      <td>0</td>\n",
       "      <td>0</td>\n",
       "      <td>0</td>\n",
       "      <td>0</td>\n",
       "      <td>0</td>\n",
       "      <td>0</td>\n",
       "      <td>0</td>\n",
       "      <td>0</td>\n",
       "      <td>0</td>\n",
       "      <td>0</td>\n",
       "      <td>...</td>\n",
       "      <td>0</td>\n",
       "      <td>0</td>\n",
       "      <td>0</td>\n",
       "      <td>0</td>\n",
       "      <td>0</td>\n",
       "      <td>0</td>\n",
       "      <td>0</td>\n",
       "      <td>0</td>\n",
       "      <td>0</td>\n",
       "      <td>0</td>\n",
       "    </tr>\n",
       "    <tr>\n",
       "      <th>...</th>\n",
       "      <td>...</td>\n",
       "      <td>...</td>\n",
       "      <td>...</td>\n",
       "      <td>...</td>\n",
       "      <td>...</td>\n",
       "      <td>...</td>\n",
       "      <td>...</td>\n",
       "      <td>...</td>\n",
       "      <td>...</td>\n",
       "      <td>...</td>\n",
       "      <td>...</td>\n",
       "      <td>...</td>\n",
       "      <td>...</td>\n",
       "      <td>...</td>\n",
       "      <td>...</td>\n",
       "      <td>...</td>\n",
       "      <td>...</td>\n",
       "      <td>...</td>\n",
       "      <td>...</td>\n",
       "      <td>...</td>\n",
       "      <td>...</td>\n",
       "    </tr>\n",
       "    <tr>\n",
       "      <th>995</th>\n",
       "      <td>0</td>\n",
       "      <td>0</td>\n",
       "      <td>0</td>\n",
       "      <td>0</td>\n",
       "      <td>0</td>\n",
       "      <td>0</td>\n",
       "      <td>0</td>\n",
       "      <td>0</td>\n",
       "      <td>0</td>\n",
       "      <td>0</td>\n",
       "      <td>...</td>\n",
       "      <td>0</td>\n",
       "      <td>0</td>\n",
       "      <td>0</td>\n",
       "      <td>0</td>\n",
       "      <td>0</td>\n",
       "      <td>0</td>\n",
       "      <td>0</td>\n",
       "      <td>0</td>\n",
       "      <td>0</td>\n",
       "      <td>0</td>\n",
       "    </tr>\n",
       "    <tr>\n",
       "      <th>996</th>\n",
       "      <td>0</td>\n",
       "      <td>0</td>\n",
       "      <td>0</td>\n",
       "      <td>0</td>\n",
       "      <td>0</td>\n",
       "      <td>0</td>\n",
       "      <td>0</td>\n",
       "      <td>0</td>\n",
       "      <td>0</td>\n",
       "      <td>0</td>\n",
       "      <td>...</td>\n",
       "      <td>0</td>\n",
       "      <td>0</td>\n",
       "      <td>0</td>\n",
       "      <td>0</td>\n",
       "      <td>0</td>\n",
       "      <td>0</td>\n",
       "      <td>0</td>\n",
       "      <td>0</td>\n",
       "      <td>0</td>\n",
       "      <td>0</td>\n",
       "    </tr>\n",
       "    <tr>\n",
       "      <th>997</th>\n",
       "      <td>0</td>\n",
       "      <td>0</td>\n",
       "      <td>0</td>\n",
       "      <td>0</td>\n",
       "      <td>0</td>\n",
       "      <td>0</td>\n",
       "      <td>0</td>\n",
       "      <td>0</td>\n",
       "      <td>0</td>\n",
       "      <td>0</td>\n",
       "      <td>...</td>\n",
       "      <td>0</td>\n",
       "      <td>0</td>\n",
       "      <td>0</td>\n",
       "      <td>0</td>\n",
       "      <td>0</td>\n",
       "      <td>0</td>\n",
       "      <td>0</td>\n",
       "      <td>0</td>\n",
       "      <td>0</td>\n",
       "      <td>0</td>\n",
       "    </tr>\n",
       "    <tr>\n",
       "      <th>998</th>\n",
       "      <td>0</td>\n",
       "      <td>0</td>\n",
       "      <td>0</td>\n",
       "      <td>0</td>\n",
       "      <td>0</td>\n",
       "      <td>0</td>\n",
       "      <td>0</td>\n",
       "      <td>0</td>\n",
       "      <td>0</td>\n",
       "      <td>0</td>\n",
       "      <td>...</td>\n",
       "      <td>0</td>\n",
       "      <td>0</td>\n",
       "      <td>0</td>\n",
       "      <td>0</td>\n",
       "      <td>0</td>\n",
       "      <td>0</td>\n",
       "      <td>0</td>\n",
       "      <td>0</td>\n",
       "      <td>0</td>\n",
       "      <td>0</td>\n",
       "    </tr>\n",
       "    <tr>\n",
       "      <th>999</th>\n",
       "      <td>0</td>\n",
       "      <td>0</td>\n",
       "      <td>0</td>\n",
       "      <td>0</td>\n",
       "      <td>0</td>\n",
       "      <td>0</td>\n",
       "      <td>0</td>\n",
       "      <td>0</td>\n",
       "      <td>0</td>\n",
       "      <td>0</td>\n",
       "      <td>...</td>\n",
       "      <td>0</td>\n",
       "      <td>0</td>\n",
       "      <td>0</td>\n",
       "      <td>0</td>\n",
       "      <td>0</td>\n",
       "      <td>0</td>\n",
       "      <td>0</td>\n",
       "      <td>0</td>\n",
       "      <td>0</td>\n",
       "      <td>0</td>\n",
       "    </tr>\n",
       "  </tbody>\n",
       "</table>\n",
       "<p>1000 rows × 16721 columns</p>\n",
       "</div>"
      ],
      "text/plain": [
       "     aachen  aah  aargau  aaron  aarvo  aba  aback  abandon  abandoned  \\\n",
       "0         0    0       0      0      0    0      0        0          0   \n",
       "1         0    0       0      0      0    0      0        0          0   \n",
       "2         0    0       0      0      0    0      0        0          0   \n",
       "3         0    0       0      0      0    0      0        0          0   \n",
       "4         0    0       0      0      0    0      0        0          0   \n",
       "..      ...  ...     ...    ...    ...  ...    ...      ...        ...   \n",
       "995       0    0       0      0      0    0      0        0          0   \n",
       "996       0    0       0      0      0    0      0        0          0   \n",
       "997       0    0       0      0      0    0      0        0          0   \n",
       "998       0    0       0      0      0    0      0        0          0   \n",
       "999       0    0       0      0      0    0      0        0          0   \n",
       "\n",
       "     abated  ...  zoon  zoophagous  zoophyte  zorger  zostera  zouch  zu  \\\n",
       "0         0  ...     0           0         0       0        0      0   0   \n",
       "1         0  ...     0           0         0       0        0      0   0   \n",
       "2         0  ...     0           0         0       0        0      0   0   \n",
       "3         0  ...     0           0         0       0        0      0   0   \n",
       "4         0  ...     0           0         0       0        0      0   0   \n",
       "..      ...  ...   ...         ...       ...     ...      ...    ...  ..   \n",
       "995       0  ...     0           0         0       0        0      0   0   \n",
       "996       0  ...     0           0         0       0        0      0   0   \n",
       "997       0  ...     0           0         0       0        0      0   0   \n",
       "998       0  ...     0           0         0       0        0      0   0   \n",
       "999       0  ...     0           0         0       0        0      0   0   \n",
       "\n",
       "     zulu  zum  zytniamatka  \n",
       "0       0    0            0  \n",
       "1       0    0            0  \n",
       "2       0    0            0  \n",
       "3       0    0            0  \n",
       "4       0    0            0  \n",
       "..    ...  ...          ...  \n",
       "995     0    0            0  \n",
       "996     0    0            0  \n",
       "997     0    0            0  \n",
       "998     0    0            0  \n",
       "999     0    0            0  \n",
       "\n",
       "[1000 rows x 16721 columns]"
      ]
     },
     "execution_count": 11,
     "metadata": {},
     "output_type": "execute_result"
    }
   ],
   "source": [
    "def model_BOW(data): # take the partitions\n",
    "    cv = CountVectorizer()\n",
    "    cv_fit = cv.fit_transform(data)\n",
    "    cv_fit_df = pd.DataFrame(cv_fit.toarray(), columns = cv.get_feature_names())\n",
    "    return cv_fit_df\n",
    "    \n",
    "bow_vectorizer = model_BOW(dataset['partitions'])\n",
    "bow_vectorizer"
   ]
  },
  {
   "cell_type": "markdown",
   "id": "181a34f1",
   "metadata": {},
   "source": [
    "## TF-IDF model"
   ]
  },
  {
   "cell_type": "code",
   "execution_count": 12,
   "id": "5d3e6b25",
   "metadata": {},
   "outputs": [
    {
     "data": {
      "text/html": [
       "<div>\n",
       "<style scoped>\n",
       "    .dataframe tbody tr th:only-of-type {\n",
       "        vertical-align: middle;\n",
       "    }\n",
       "\n",
       "    .dataframe tbody tr th {\n",
       "        vertical-align: top;\n",
       "    }\n",
       "\n",
       "    .dataframe thead th {\n",
       "        text-align: right;\n",
       "    }\n",
       "</style>\n",
       "<table border=\"1\" class=\"dataframe\">\n",
       "  <thead>\n",
       "    <tr style=\"text-align: right;\">\n",
       "      <th></th>\n",
       "      <th>aachen</th>\n",
       "      <th>aah</th>\n",
       "      <th>aargau</th>\n",
       "      <th>aaron</th>\n",
       "      <th>aarvo</th>\n",
       "      <th>aba</th>\n",
       "      <th>aback</th>\n",
       "      <th>abandon</th>\n",
       "      <th>abandoned</th>\n",
       "      <th>abated</th>\n",
       "      <th>...</th>\n",
       "      <th>zoon</th>\n",
       "      <th>zoophagous</th>\n",
       "      <th>zoophyte</th>\n",
       "      <th>zorger</th>\n",
       "      <th>zostera</th>\n",
       "      <th>zouch</th>\n",
       "      <th>zu</th>\n",
       "      <th>zulu</th>\n",
       "      <th>zum</th>\n",
       "      <th>zytniamatka</th>\n",
       "    </tr>\n",
       "  </thead>\n",
       "  <tbody>\n",
       "    <tr>\n",
       "      <th>0</th>\n",
       "      <td>0.0</td>\n",
       "      <td>0.0</td>\n",
       "      <td>0.0</td>\n",
       "      <td>0.0</td>\n",
       "      <td>0.0</td>\n",
       "      <td>0.0</td>\n",
       "      <td>0.0</td>\n",
       "      <td>0.0</td>\n",
       "      <td>0.0</td>\n",
       "      <td>0.0</td>\n",
       "      <td>...</td>\n",
       "      <td>0.0</td>\n",
       "      <td>0.0</td>\n",
       "      <td>0.0</td>\n",
       "      <td>0.0</td>\n",
       "      <td>0.0</td>\n",
       "      <td>0.0</td>\n",
       "      <td>0.0</td>\n",
       "      <td>0.0</td>\n",
       "      <td>0.0</td>\n",
       "      <td>0.0</td>\n",
       "    </tr>\n",
       "    <tr>\n",
       "      <th>1</th>\n",
       "      <td>0.0</td>\n",
       "      <td>0.0</td>\n",
       "      <td>0.0</td>\n",
       "      <td>0.0</td>\n",
       "      <td>0.0</td>\n",
       "      <td>0.0</td>\n",
       "      <td>0.0</td>\n",
       "      <td>0.0</td>\n",
       "      <td>0.0</td>\n",
       "      <td>0.0</td>\n",
       "      <td>...</td>\n",
       "      <td>0.0</td>\n",
       "      <td>0.0</td>\n",
       "      <td>0.0</td>\n",
       "      <td>0.0</td>\n",
       "      <td>0.0</td>\n",
       "      <td>0.0</td>\n",
       "      <td>0.0</td>\n",
       "      <td>0.0</td>\n",
       "      <td>0.0</td>\n",
       "      <td>0.0</td>\n",
       "    </tr>\n",
       "    <tr>\n",
       "      <th>2</th>\n",
       "      <td>0.0</td>\n",
       "      <td>0.0</td>\n",
       "      <td>0.0</td>\n",
       "      <td>0.0</td>\n",
       "      <td>0.0</td>\n",
       "      <td>0.0</td>\n",
       "      <td>0.0</td>\n",
       "      <td>0.0</td>\n",
       "      <td>0.0</td>\n",
       "      <td>0.0</td>\n",
       "      <td>...</td>\n",
       "      <td>0.0</td>\n",
       "      <td>0.0</td>\n",
       "      <td>0.0</td>\n",
       "      <td>0.0</td>\n",
       "      <td>0.0</td>\n",
       "      <td>0.0</td>\n",
       "      <td>0.0</td>\n",
       "      <td>0.0</td>\n",
       "      <td>0.0</td>\n",
       "      <td>0.0</td>\n",
       "    </tr>\n",
       "    <tr>\n",
       "      <th>3</th>\n",
       "      <td>0.0</td>\n",
       "      <td>0.0</td>\n",
       "      <td>0.0</td>\n",
       "      <td>0.0</td>\n",
       "      <td>0.0</td>\n",
       "      <td>0.0</td>\n",
       "      <td>0.0</td>\n",
       "      <td>0.0</td>\n",
       "      <td>0.0</td>\n",
       "      <td>0.0</td>\n",
       "      <td>...</td>\n",
       "      <td>0.0</td>\n",
       "      <td>0.0</td>\n",
       "      <td>0.0</td>\n",
       "      <td>0.0</td>\n",
       "      <td>0.0</td>\n",
       "      <td>0.0</td>\n",
       "      <td>0.0</td>\n",
       "      <td>0.0</td>\n",
       "      <td>0.0</td>\n",
       "      <td>0.0</td>\n",
       "    </tr>\n",
       "    <tr>\n",
       "      <th>4</th>\n",
       "      <td>0.0</td>\n",
       "      <td>0.0</td>\n",
       "      <td>0.0</td>\n",
       "      <td>0.0</td>\n",
       "      <td>0.0</td>\n",
       "      <td>0.0</td>\n",
       "      <td>0.0</td>\n",
       "      <td>0.0</td>\n",
       "      <td>0.0</td>\n",
       "      <td>0.0</td>\n",
       "      <td>...</td>\n",
       "      <td>0.0</td>\n",
       "      <td>0.0</td>\n",
       "      <td>0.0</td>\n",
       "      <td>0.0</td>\n",
       "      <td>0.0</td>\n",
       "      <td>0.0</td>\n",
       "      <td>0.0</td>\n",
       "      <td>0.0</td>\n",
       "      <td>0.0</td>\n",
       "      <td>0.0</td>\n",
       "    </tr>\n",
       "    <tr>\n",
       "      <th>...</th>\n",
       "      <td>...</td>\n",
       "      <td>...</td>\n",
       "      <td>...</td>\n",
       "      <td>...</td>\n",
       "      <td>...</td>\n",
       "      <td>...</td>\n",
       "      <td>...</td>\n",
       "      <td>...</td>\n",
       "      <td>...</td>\n",
       "      <td>...</td>\n",
       "      <td>...</td>\n",
       "      <td>...</td>\n",
       "      <td>...</td>\n",
       "      <td>...</td>\n",
       "      <td>...</td>\n",
       "      <td>...</td>\n",
       "      <td>...</td>\n",
       "      <td>...</td>\n",
       "      <td>...</td>\n",
       "      <td>...</td>\n",
       "      <td>...</td>\n",
       "    </tr>\n",
       "    <tr>\n",
       "      <th>995</th>\n",
       "      <td>0.0</td>\n",
       "      <td>0.0</td>\n",
       "      <td>0.0</td>\n",
       "      <td>0.0</td>\n",
       "      <td>0.0</td>\n",
       "      <td>0.0</td>\n",
       "      <td>0.0</td>\n",
       "      <td>0.0</td>\n",
       "      <td>0.0</td>\n",
       "      <td>0.0</td>\n",
       "      <td>...</td>\n",
       "      <td>0.0</td>\n",
       "      <td>0.0</td>\n",
       "      <td>0.0</td>\n",
       "      <td>0.0</td>\n",
       "      <td>0.0</td>\n",
       "      <td>0.0</td>\n",
       "      <td>0.0</td>\n",
       "      <td>0.0</td>\n",
       "      <td>0.0</td>\n",
       "      <td>0.0</td>\n",
       "    </tr>\n",
       "    <tr>\n",
       "      <th>996</th>\n",
       "      <td>0.0</td>\n",
       "      <td>0.0</td>\n",
       "      <td>0.0</td>\n",
       "      <td>0.0</td>\n",
       "      <td>0.0</td>\n",
       "      <td>0.0</td>\n",
       "      <td>0.0</td>\n",
       "      <td>0.0</td>\n",
       "      <td>0.0</td>\n",
       "      <td>0.0</td>\n",
       "      <td>...</td>\n",
       "      <td>0.0</td>\n",
       "      <td>0.0</td>\n",
       "      <td>0.0</td>\n",
       "      <td>0.0</td>\n",
       "      <td>0.0</td>\n",
       "      <td>0.0</td>\n",
       "      <td>0.0</td>\n",
       "      <td>0.0</td>\n",
       "      <td>0.0</td>\n",
       "      <td>0.0</td>\n",
       "    </tr>\n",
       "    <tr>\n",
       "      <th>997</th>\n",
       "      <td>0.0</td>\n",
       "      <td>0.0</td>\n",
       "      <td>0.0</td>\n",
       "      <td>0.0</td>\n",
       "      <td>0.0</td>\n",
       "      <td>0.0</td>\n",
       "      <td>0.0</td>\n",
       "      <td>0.0</td>\n",
       "      <td>0.0</td>\n",
       "      <td>0.0</td>\n",
       "      <td>...</td>\n",
       "      <td>0.0</td>\n",
       "      <td>0.0</td>\n",
       "      <td>0.0</td>\n",
       "      <td>0.0</td>\n",
       "      <td>0.0</td>\n",
       "      <td>0.0</td>\n",
       "      <td>0.0</td>\n",
       "      <td>0.0</td>\n",
       "      <td>0.0</td>\n",
       "      <td>0.0</td>\n",
       "    </tr>\n",
       "    <tr>\n",
       "      <th>998</th>\n",
       "      <td>0.0</td>\n",
       "      <td>0.0</td>\n",
       "      <td>0.0</td>\n",
       "      <td>0.0</td>\n",
       "      <td>0.0</td>\n",
       "      <td>0.0</td>\n",
       "      <td>0.0</td>\n",
       "      <td>0.0</td>\n",
       "      <td>0.0</td>\n",
       "      <td>0.0</td>\n",
       "      <td>...</td>\n",
       "      <td>0.0</td>\n",
       "      <td>0.0</td>\n",
       "      <td>0.0</td>\n",
       "      <td>0.0</td>\n",
       "      <td>0.0</td>\n",
       "      <td>0.0</td>\n",
       "      <td>0.0</td>\n",
       "      <td>0.0</td>\n",
       "      <td>0.0</td>\n",
       "      <td>0.0</td>\n",
       "    </tr>\n",
       "    <tr>\n",
       "      <th>999</th>\n",
       "      <td>0.0</td>\n",
       "      <td>0.0</td>\n",
       "      <td>0.0</td>\n",
       "      <td>0.0</td>\n",
       "      <td>0.0</td>\n",
       "      <td>0.0</td>\n",
       "      <td>0.0</td>\n",
       "      <td>0.0</td>\n",
       "      <td>0.0</td>\n",
       "      <td>0.0</td>\n",
       "      <td>...</td>\n",
       "      <td>0.0</td>\n",
       "      <td>0.0</td>\n",
       "      <td>0.0</td>\n",
       "      <td>0.0</td>\n",
       "      <td>0.0</td>\n",
       "      <td>0.0</td>\n",
       "      <td>0.0</td>\n",
       "      <td>0.0</td>\n",
       "      <td>0.0</td>\n",
       "      <td>0.0</td>\n",
       "    </tr>\n",
       "  </tbody>\n",
       "</table>\n",
       "<p>1000 rows × 16721 columns</p>\n",
       "</div>"
      ],
      "text/plain": [
       "     aachen  aah  aargau  aaron  aarvo  aba  aback  abandon  abandoned  \\\n",
       "0       0.0  0.0     0.0    0.0    0.0  0.0    0.0      0.0        0.0   \n",
       "1       0.0  0.0     0.0    0.0    0.0  0.0    0.0      0.0        0.0   \n",
       "2       0.0  0.0     0.0    0.0    0.0  0.0    0.0      0.0        0.0   \n",
       "3       0.0  0.0     0.0    0.0    0.0  0.0    0.0      0.0        0.0   \n",
       "4       0.0  0.0     0.0    0.0    0.0  0.0    0.0      0.0        0.0   \n",
       "..      ...  ...     ...    ...    ...  ...    ...      ...        ...   \n",
       "995     0.0  0.0     0.0    0.0    0.0  0.0    0.0      0.0        0.0   \n",
       "996     0.0  0.0     0.0    0.0    0.0  0.0    0.0      0.0        0.0   \n",
       "997     0.0  0.0     0.0    0.0    0.0  0.0    0.0      0.0        0.0   \n",
       "998     0.0  0.0     0.0    0.0    0.0  0.0    0.0      0.0        0.0   \n",
       "999     0.0  0.0     0.0    0.0    0.0  0.0    0.0      0.0        0.0   \n",
       "\n",
       "     abated  ...  zoon  zoophagous  zoophyte  zorger  zostera  zouch   zu  \\\n",
       "0       0.0  ...   0.0         0.0       0.0     0.0      0.0    0.0  0.0   \n",
       "1       0.0  ...   0.0         0.0       0.0     0.0      0.0    0.0  0.0   \n",
       "2       0.0  ...   0.0         0.0       0.0     0.0      0.0    0.0  0.0   \n",
       "3       0.0  ...   0.0         0.0       0.0     0.0      0.0    0.0  0.0   \n",
       "4       0.0  ...   0.0         0.0       0.0     0.0      0.0    0.0  0.0   \n",
       "..      ...  ...   ...         ...       ...     ...      ...    ...  ...   \n",
       "995     0.0  ...   0.0         0.0       0.0     0.0      0.0    0.0  0.0   \n",
       "996     0.0  ...   0.0         0.0       0.0     0.0      0.0    0.0  0.0   \n",
       "997     0.0  ...   0.0         0.0       0.0     0.0      0.0    0.0  0.0   \n",
       "998     0.0  ...   0.0         0.0       0.0     0.0      0.0    0.0  0.0   \n",
       "999     0.0  ...   0.0         0.0       0.0     0.0      0.0    0.0  0.0   \n",
       "\n",
       "     zulu  zum  zytniamatka  \n",
       "0     0.0  0.0          0.0  \n",
       "1     0.0  0.0          0.0  \n",
       "2     0.0  0.0          0.0  \n",
       "3     0.0  0.0          0.0  \n",
       "4     0.0  0.0          0.0  \n",
       "..    ...  ...          ...  \n",
       "995   0.0  0.0          0.0  \n",
       "996   0.0  0.0          0.0  \n",
       "997   0.0  0.0          0.0  \n",
       "998   0.0  0.0          0.0  \n",
       "999   0.0  0.0          0.0  \n",
       "\n",
       "[1000 rows x 16721 columns]"
      ]
     },
     "execution_count": 12,
     "metadata": {},
     "output_type": "execute_result"
    }
   ],
   "source": [
    "def model_TFIDF(data): # take the partitions\n",
    "    tfIdf = TfidfVectorizer(use_idf=True)\n",
    "    tfidf_fit = tfIdf.fit_transform(data).toarray()\n",
    "    tfidf_fit_df = pd.DataFrame(tfidf_fit, columns = tfIdf.get_feature_names())\n",
    "    return tfidf_fit_df\n",
    "\n",
    "tfidf_vectorizer = model_TFIDF(dataset['partitions'])\n",
    "tfidf_vectorizer"
   ]
  },
  {
   "cell_type": "markdown",
   "id": "851457d2",
   "metadata": {},
   "source": [
    "## LDA as a feature extractor"
   ]
  },
  {
   "cell_type": "code",
   "execution_count": 13,
   "id": "4a06064a",
   "metadata": {},
   "outputs": [
    {
     "data": {
      "text/plain": [
       "array([[0.02851121, 0.96740214, 0.00136445, 0.00136159, 0.0013606 ],\n",
       "       [0.00142122, 0.00142057, 0.20173385, 0.00141453, 0.79400982],\n",
       "       [0.81288529, 0.05833501, 0.00141272, 0.00139953, 0.12596746],\n",
       "       ...,\n",
       "       [0.92656732, 0.06899577, 0.0014683 , 0.00148402, 0.00148459],\n",
       "       [0.00140868, 0.75559235, 0.07043481, 0.00139134, 0.17117283],\n",
       "       [0.00140393, 0.00140247, 0.99394291, 0.00139097, 0.00185973]])"
      ]
     },
     "execution_count": 13,
     "metadata": {},
     "output_type": "execute_result"
    }
   ],
   "source": [
    "def model_LDA2(data): # take the partitions\n",
    "    cv = CountVectorizer(max_df = 0.9, min_df = 2)\n",
    "    dtm = cv.fit_transform(data)\n",
    "    lda = LatentDirichletAllocation(n_components = 5, random_state = 5)\n",
    "    lda = lda.fit_transform(dtm)\n",
    "    return lda\n",
    "\n",
    "lda = model_LDA2(dataset['partitions'])\n",
    "lda"
   ]
  },
  {
   "cell_type": "markdown",
   "id": "b4ee0b26",
   "metadata": {},
   "source": [
    "## wordembedding model"
   ]
  },
  {
   "cell_type": "code",
   "execution_count": 14,
   "id": "8aaf1357",
   "metadata": {},
   "outputs": [],
   "source": [
    "#splitting the sentences in each partitoin\n",
    "partitions_splitted = []\n",
    "for partition in dataset['partitions']:\n",
    "    temp = partition.split()\n",
    "    partitions_splitted.append(temp)\n"
   ]
  },
  {
   "cell_type": "code",
   "execution_count": 15,
   "id": "92fb59b0",
   "metadata": {},
   "outputs": [],
   "source": [
    "#creating the word2vec model\n",
    "def model_word2vec(tokens_data): # take the partitions_splitted\n",
    "    model = Word2Vec(sentences = tokens_data, vector_size = 150, workers = 6)\n",
    "    return model"
   ]
  },
  {
   "cell_type": "code",
   "execution_count": 16,
   "id": "a17ac2fa",
   "metadata": {},
   "outputs": [
    {
     "data": {
      "text/plain": [
       "<gensim.models.word2vec.Word2Vec at 0x26670c64490>"
      ]
     },
     "execution_count": 16,
     "metadata": {},
     "output_type": "execute_result"
    }
   ],
   "source": [
    "word2vec_model = model_word2vec(partitions_splitted)\n",
    "word2vec_model"
   ]
  },
  {
   "cell_type": "code",
   "execution_count": 17,
   "id": "e9e166cb",
   "metadata": {},
   "outputs": [],
   "source": [
    "#Create the word document vectors\n",
    "def doc_vectors(data_tokens, word2vec_model):\n",
    "    features = []\n",
    "    for tokens in data_tokens:\n",
    "        zero_vector = np.zeros(word2vec_model.vector_size)\n",
    "        vectors = []\n",
    "        for token in tokens:\n",
    "            if token in word2vec_model.wv:\n",
    "                vectors.append(word2vec_model.wv[token])\n",
    "        if vectors:\n",
    "            vectors = np.asarray(vectors)\n",
    "            avg_vec = vectors.mean(axis = 0)\n",
    "            features.append(avg_vec)\n",
    "        else:\n",
    "            features.append(zero_vector)\n",
    "    return features\n",
    "\n",
    "vectorized_doc = doc_vectors(partitions_splitted, word2vec_model) #vectorized documents\n"
   ]
  },
  {
   "cell_type": "code",
   "execution_count": 18,
   "id": "f981a97f",
   "metadata": {},
   "outputs": [
    {
     "data": {
      "text/plain": [
       "(1000, 150)"
      ]
     },
     "execution_count": 18,
     "metadata": {},
     "output_type": "execute_result"
    }
   ],
   "source": [
    "len(vectorized_doc), len(vectorized_doc[0])"
   ]
  },
  {
   "cell_type": "markdown",
   "id": "c86b6342",
   "metadata": {},
   "source": [
    "## Hierarchical Clustering + BOW"
   ]
  },
  {
   "cell_type": "code",
   "execution_count": 19,
   "id": "a34efc17",
   "metadata": {},
   "outputs": [],
   "source": [
    "bow_features_reduced = KernelPCA(n_components = 2, eigen_solver = 'dense').fit_transform(bow_vectorizer)"
   ]
  },
  {
   "cell_type": "code",
   "execution_count": 20,
   "id": "b2d714c6",
   "metadata": {},
   "outputs": [],
   "source": [
    "#fitting the model with the bow\n",
    "y_data_HC_bow, model_HC_bow = model_HC(bow_features_reduced)\n"
   ]
  },
  {
   "cell_type": "code",
   "execution_count": 21,
   "id": "3fed759a",
   "metadata": {},
   "outputs": [
    {
     "data": {
      "image/png": "[encoded data removed]",
      "text/plain": [
       "<Figure size 720x432 with 1 Axes>"
      ]
     },
     "metadata": {
      "needs_background": "light"
     },
     "output_type": "display_data"
    }
   ],
   "source": [
    "plotting(bow_features_reduced, y_data_HC_bow, model_HC_bow, 'BOW Clustering')"
   ]
  },
  {
   "cell_type": "code",
   "execution_count": 22,
   "id": "735192f9",
   "metadata": {},
   "outputs": [
    {
     "name": "stdout",
     "output_type": "stream",
     "text": [
      "Homogeneity: 0.6903400988214664\n",
      "Completeness: 0.8170746729620073\n",
      "V-measure: 0.7483798368378088\n",
      "Adjusted Rand-Index: 0.5864701209912095\n",
      "Silhouette Coefficient: 0.6250833462941792\n"
     ]
    }
   ],
   "source": [
    "clustering_evaluation(bow_features_reduced, model_HC_bow.labels_, dataset['label'])"
   ]
  },
  {
   "cell_type": "markdown",
   "id": "339eb966",
   "metadata": {},
   "source": [
    "## Hierarchical Clustering + TFIDF"
   ]
  },
  {
   "cell_type": "code",
   "execution_count": 23,
   "id": "16bee5fc",
   "metadata": {},
   "outputs": [],
   "source": [
    "bow_features_reduced_tfidf = KernelPCA(n_components = 2, eigen_solver = 'dense').fit_transform(tfidf_vectorizer)"
   ]
  },
  {
   "cell_type": "code",
   "execution_count": 24,
   "id": "5fd8d650",
   "metadata": {},
   "outputs": [],
   "source": [
    "#fitting the model with the bow\n",
    "y_data_HC_tfidf, model_HC_tfidf = model_HC(bow_features_reduced_tfidf)"
   ]
  },
  {
   "cell_type": "code",
   "execution_count": 25,
   "id": "9ded4f59",
   "metadata": {},
   "outputs": [
    {
     "data": {
      "image/png": "[encoded data removed]",
      "text/plain": [
       "<Figure size 720x432 with 1 Axes>"
      ]
     },
     "metadata": {
      "needs_background": "light"
     },
     "output_type": "display_data"
    }
   ],
   "source": [
    "plotting(bow_features_reduced_tfidf, y_data_HC_tfidf, model_HC_tfidf, 'TF-IDF Clustering')"
   ]
  },
  {
   "cell_type": "code",
   "execution_count": 26,
   "id": "9b098462",
   "metadata": {},
   "outputs": [
    {
     "name": "stdout",
     "output_type": "stream",
     "text": [
      "Homogeneity: 0.6900425155926684\n",
      "Completeness: 0.8248602086494657\n",
      "V-measure: 0.7514523596536811\n",
      "Adjusted Rand-Index: 0.5389309930377986\n",
      "Silhouette Coefficient: 0.6261719940132334\n"
     ]
    }
   ],
   "source": [
    "clustering_evaluation(bow_features_reduced_tfidf, model_HC_tfidf.labels_, dataset['label'])"
   ]
  },
  {
   "cell_type": "markdown",
   "id": "d4f52a0c",
   "metadata": {},
   "source": [
    "## Hierarchical Clustering  + LDA"
   ]
  },
  {
   "cell_type": "code",
   "execution_count": 27,
   "id": "c3590e7e",
   "metadata": {},
   "outputs": [],
   "source": [
    "bow_features_reduced_lda = KernelPCA(n_components = 2, eigen_solver = 'dense').fit_transform(lda)"
   ]
  },
  {
   "cell_type": "code",
   "execution_count": 28,
   "id": "04d4af6c",
   "metadata": {},
   "outputs": [],
   "source": [
    "#fitting the model with the bow\n",
    "y_data_HC_lda, model_HC_lda = model_HC(bow_features_reduced_lda)"
   ]
  },
  {
   "cell_type": "code",
   "execution_count": 29,
   "id": "8d1d40ae",
   "metadata": {},
   "outputs": [
    {
     "data": {
      "image/png": "[encoded data removed]",
      "text/plain": [
       "<Figure size 720x432 with 1 Axes>"
      ]
     },
     "metadata": {
      "needs_background": "light"
     },
     "output_type": "display_data"
    }
   ],
   "source": [
    "plotting(bow_features_reduced_lda, y_data_HC_lda, model_HC_lda, 'LDA Clustering')"
   ]
  },
  {
   "cell_type": "code",
   "execution_count": 30,
   "id": "ac74d72e",
   "metadata": {},
   "outputs": [
    {
     "name": "stdout",
     "output_type": "stream",
     "text": [
      "Homogeneity: 0.745316493102089\n",
      "Completeness: 0.7613422023760905\n",
      "V-measure: 0.7532441182977752\n",
      "Adjusted Rand-Index: 0.6946673135675593\n",
      "Silhouette Coefficient: 0.7235943913207931\n"
     ]
    }
   ],
   "source": [
    "clustering_evaluation(bow_features_reduced_lda, model_HC_lda.labels_, dataset['label'])"
   ]
  },
  {
   "cell_type": "markdown",
   "id": "814b649e",
   "metadata": {},
   "source": [
    "## KMeans + wordEmbedding"
   ]
  },
  {
   "cell_type": "code",
   "execution_count": 31,
   "id": "ddc625cc",
   "metadata": {},
   "outputs": [],
   "source": [
    "bow_features_reduced_we = KernelPCA(n_components = 2, eigen_solver = 'dense').fit_transform(vectorized_doc)"
   ]
  },
  {
   "cell_type": "code",
   "execution_count": 32,
   "id": "a827a0fc",
   "metadata": {},
   "outputs": [],
   "source": [
    "#fitting KMeans model with the LDA\n",
    "y_data_HC_we, model_HC_we = model_HC(bow_features_reduced_we)"
   ]
  },
  {
   "cell_type": "code",
   "execution_count": 33,
   "id": "02639b85",
   "metadata": {},
   "outputs": [
    {
     "data": {
      "image/png": "[encoded data removed]",
      "text/plain": [
       "<Figure size 720x432 with 1 Axes>"
      ]
     },
     "metadata": {
      "needs_background": "light"
     },
     "output_type": "display_data"
    }
   ],
   "source": [
    "plotting(bow_features_reduced_we, y_data_HC_we, model_HC_we, 'Word Embedding Clustering')"
   ]
  },
  {
   "cell_type": "code",
   "execution_count": 34,
   "id": "58b60a08",
   "metadata": {},
   "outputs": [
    {
     "name": "stdout",
     "output_type": "stream",
     "text": [
      "Homogeneity: 0.39715334582318895\n",
      "Completeness: 0.41749909621498693\n",
      "V-measure: 0.4070721558879692\n",
      "Adjusted Rand-Index: 0.28590735940220385\n",
      "Silhouette Coefficient: 0.35542604327201843\n"
     ]
    }
   ],
   "source": [
    "clustering_evaluation(bow_features_reduced_we, model_HC_we.labels_, dataset['label'])"
   ]
  },
  {
   "cell_type": "code",
   "execution_count": null,
   "id": "a32c2a38",
   "metadata": {},
   "outputs": [],
   "source": []
  },
  {
   "cell_type": "code",
   "execution_count": null,
   "id": "f8539798",
   "metadata": {},
   "outputs": [],
   "source": []
  },
  {
   "cell_type": "code",
   "execution_count": null,
   "id": "0d0300ab",
   "metadata": {},
   "outputs": [],
   "source": [
    "clf = NearestCentroid()\n",
    "clf.fit(X, y_predict)\n",
    "print(clf.centroids_)"
   ]
  },
  {
   "cell_type": "code",
   "execution_count": 40,
   "id": "87d9e778",
   "metadata": {},
   "outputs": [],
   "source": [
    "def distance_btw_clusters(data, predicted_data):\n",
    "    clf = NearestCentroid()\n",
    "    clf.fit(data, predicted_data)\n",
    "    dists = euclidean_distances(clf.centroids_)\n",
    "    tri_dists = dists[np.triu_indices(5, 1)]\n",
    "    max_dist, avg_dist, min_dist = tri_dists.max(), tri_dists.mean(), tri_dists.min()\n",
    "    return max_dist, avg_dist, min_dist"
   ]
  },
  {
   "cell_type": "code",
   "execution_count": 42,
   "id": "1d3d704f",
   "metadata": {},
   "outputs": [],
   "source": [
    "max_dist, avg_dist, min_dist = distance_btw_clusters(bow_vectorizer, y_data_HC_bow)"
   ]
  },
  {
   "cell_type": "code",
   "execution_count": 43,
   "id": "e5e7abe2",
   "metadata": {},
   "outputs": [
    {
     "data": {
      "text/plain": [
       "11.647371118273755"
      ]
     },
     "execution_count": 43,
     "metadata": {},
     "output_type": "execute_result"
    }
   ],
   "source": [
    "max_dist"
   ]
  },
  {
   "cell_type": "code",
   "execution_count": 44,
   "id": "92db9ec2",
   "metadata": {},
   "outputs": [
    {
     "data": {
      "text/plain": [
       "7.983308114676042"
      ]
     },
     "execution_count": 44,
     "metadata": {},
     "output_type": "execute_result"
    }
   ],
   "source": [
    "avg_dist"
   ]
  },
  {
   "cell_type": "code",
   "execution_count": 45,
   "id": "0ecf8bc7",
   "metadata": {},
   "outputs": [
    {
     "data": {
      "text/plain": [
       "5.149441205151195"
      ]
     },
     "execution_count": 45,
     "metadata": {},
     "output_type": "execute_result"
    }
   ],
   "source": [
    "min_dist"
   ]
  },
  {
   "cell_type": "code",
   "execution_count": null,
   "id": "e7489bb6",
   "metadata": {},
   "outputs": [],
   "source": []
  }
 ],
 "metadata": {
  "kernelspec": {
   "display_name": "Python 3 (ipykernel)",
   "language": "python",
   "name": "python3"
  },
  "language_info": {
   "codemirror_mode": {
    "name": "ipython",
    "version": 3
   },
   "file_extension": ".py",
   "mimetype": "text/x-python",
   "name": "python",
   "nbconvert_exporter": "python",
   "pygments_lexer": "ipython3",
   "version": "3.9.7"
  }
 },
 "nbformat": 4,
 "nbformat_minor": 5
}
